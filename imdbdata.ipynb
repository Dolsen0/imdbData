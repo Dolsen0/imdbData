{
 "cells": [
  {
   "cell_type": "code",
   "execution_count": 1,
   "id": "d85deec2",
   "metadata": {
    "_cell_guid": "b1076dfc-b9ad-4769-8c92-a6c4dae69d19",
    "_uuid": "8f2839f25d086af736a60e9eeb907d3b93b6e0e5",
    "execution": {
     "iopub.execute_input": "2023-06-07T19:32:19.685561Z",
     "iopub.status.busy": "2023-06-07T19:32:19.685034Z",
     "iopub.status.idle": "2023-06-07T19:32:21.293942Z",
     "shell.execute_reply": "2023-06-07T19:32:21.292649Z"
    },
    "papermill": {
     "duration": 1.61806,
     "end_time": "2023-06-07T19:32:21.297688",
     "exception": false,
     "start_time": "2023-06-07T19:32:19.679628",
     "status": "completed"
    },
    "tags": []
   },
   "outputs": [
    {
     "name": "stdout",
     "output_type": "stream",
     "text": [
      "/kaggle/input/10000-tmdb-movies-dataset/tmdb_movies_dataset.csv\n"
     ]
    }
   ],
   "source": [
    "import numpy as np # linear algebra\n",
    "import pandas as pd # data processing, CSV file I/O (e.g. pd.read_csv)\n",
    "import matplotlib.pyplot as plt\n",
    "import seaborn as sns\n",
    "import os\n",
    "\n",
    "for dirname, _, filenames in os.walk('/kaggle/input'):\n",
    "    for filename in filenames:\n",
    "        print(os.path.join(dirname, filename))"
   ]
  },
  {
   "cell_type": "code",
   "execution_count": 2,
   "id": "b127bc4e",
   "metadata": {
    "execution": {
     "iopub.execute_input": "2023-06-07T19:32:21.305959Z",
     "iopub.status.busy": "2023-06-07T19:32:21.305573Z",
     "iopub.status.idle": "2023-06-07T19:32:21.465089Z",
     "shell.execute_reply": "2023-06-07T19:32:21.463780Z"
    },
    "papermill": {
     "duration": 0.166707,
     "end_time": "2023-06-07T19:32:21.467763",
     "exception": false,
     "start_time": "2023-06-07T19:32:21.301056",
     "status": "completed"
    },
    "tags": []
   },
   "outputs": [
    {
     "name": "stdout",
     "output_type": "stream",
     "text": [
      "                         title  \\\n",
      "0                The Godfather   \n",
      "1     The Shawshank Redemption   \n",
      "2             Cuando Sea Joven   \n",
      "3        The Godfather Part II   \n",
      "4  Dilwale Dulhania Le Jayenge   \n",
      "\n",
      "                                            overview release_date  popularity  \\\n",
      "0  Spanning the years 1945 to 1955, a chronicle o...   1972-03-14     124.142   \n",
      "1  Framed in the 1940s for the double murder of h...   1994-09-23      76.625   \n",
      "2  70-year-old Malena gets a second chance at lif...   2022-09-14      22.458   \n",
      "3  In the continuing saga of the Corleone crime f...   1974-12-20      58.582   \n",
      "4  Raj is a rich, carefree, happy-go-lucky second...   1995-10-19      22.969   \n",
      "\n",
      "   vote_average  vote_count  \n",
      "0           8.7       17938  \n",
      "1           8.7       23777  \n",
      "2           8.6         226  \n",
      "3           8.6       10825  \n",
      "4           8.6        4131  \n"
     ]
    }
   ],
   "source": [
    "data = pd.read_csv('/kaggle/input/10000-tmdb-movies-dataset/tmdb_movies_dataset.csv')\n",
    "\n",
    "data = data[['title','overview', 'release_date', 'popularity', 'vote_average', 'vote_count']]\n",
    "\n",
    "# fill null field in overview category with N/A\n",
    "data['overview'] = data['overview'].fillna('No overview available.')\n",
    "\n",
    "# Convert 'release_date' to datetime\n",
    "data['release_date'] = pd.to_datetime(data['release_date'])\n",
    "\n",
    "print(data.head())"
   ]
  },
  {
   "cell_type": "code",
   "execution_count": 3,
   "id": "c397a5c0",
   "metadata": {
    "execution": {
     "iopub.execute_input": "2023-06-07T19:32:21.475831Z",
     "iopub.status.busy": "2023-06-07T19:32:21.475419Z",
     "iopub.status.idle": "2023-06-07T19:32:21.536864Z",
     "shell.execute_reply": "2023-06-07T19:32:21.535417Z"
    },
    "papermill": {
     "duration": 0.068917,
     "end_time": "2023-06-07T19:32:21.540019",
     "exception": false,
     "start_time": "2023-06-07T19:32:21.471102",
     "status": "completed"
    },
    "tags": []
   },
   "outputs": [
    {
     "name": "stdout",
     "output_type": "stream",
     "text": [
      "(10000, 6)\n",
      "title           0\n",
      "overview        0\n",
      "release_date    0\n",
      "popularity      0\n",
      "vote_average    0\n",
      "vote_count      0\n",
      "dtype: int64\n",
      "                       title  \\\n",
      "count                  10000   \n",
      "unique                  9660   \n",
      "top     Beauty and the Beast   \n",
      "freq                       4   \n",
      "mean                     NaN   \n",
      "min                      NaN   \n",
      "25%                      NaN   \n",
      "50%                      NaN   \n",
      "75%                      NaN   \n",
      "max                      NaN   \n",
      "std                      NaN   \n",
      "\n",
      "                                                 overview  \\\n",
      "count                                               10000   \n",
      "unique                                               9998   \n",
      "top     Wilbur the pig is scared of the end of the sea...   \n",
      "freq                                                    2   \n",
      "mean                                                  NaN   \n",
      "min                                                   NaN   \n",
      "25%                                                   NaN   \n",
      "50%                                                   NaN   \n",
      "75%                                                   NaN   \n",
      "max                                                   NaN   \n",
      "std                                                   NaN   \n",
      "\n",
      "                      release_date    popularity  vote_average    vote_count  \n",
      "count                        10000  10000.000000  10000.000000  10000.000000  \n",
      "unique                         NaN           NaN           NaN           NaN  \n",
      "top                            NaN           NaN           NaN           NaN  \n",
      "freq                           NaN           NaN           NaN           NaN  \n",
      "mean    2003-08-06 21:11:48.480000     24.101515      6.751900   1645.181700  \n",
      "min            1895-06-10 00:00:00      0.600000      5.600000    190.000000  \n",
      "25%            1996-03-27 06:00:00      8.766000      6.200000    320.000000  \n",
      "50%            2009-03-04 00:00:00     12.107000      6.700000    609.000000  \n",
      "75%            2016-09-09 00:00:00     19.296000      7.200000   1557.250000  \n",
      "max            2023-05-17 00:00:00  10702.084000      8.700000  33699.000000  \n",
      "std                            NaN    150.697942      0.654895   2834.390221  \n"
     ]
    }
   ],
   "source": [
    "# Print the shape of the data\n",
    "print(data.shape)\n",
    "\n",
    "# Check for missing values\n",
    "print(data.isnull().sum())\n",
    "\n",
    "# Get the summary statistics of the data\n",
    "print(data.describe(include='all', datetime_is_numeric=True))\n"
   ]
  },
  {
   "cell_type": "code",
   "execution_count": 4,
   "id": "db20ed93",
   "metadata": {
    "execution": {
     "iopub.execute_input": "2023-06-07T19:32:21.549217Z",
     "iopub.status.busy": "2023-06-07T19:32:21.548252Z",
     "iopub.status.idle": "2023-06-07T19:32:21.562583Z",
     "shell.execute_reply": "2023-06-07T19:32:21.561116Z"
    },
    "papermill": {
     "duration": 0.021295,
     "end_time": "2023-06-07T19:32:21.564976",
     "exception": false,
     "start_time": "2023-06-07T19:32:21.543681",
     "status": "completed"
    },
    "tags": []
   },
   "outputs": [
    {
     "name": "stdout",
     "output_type": "stream",
     "text": [
      "Most Popular Movies:\n",
      "                                 title  popularity\n",
      "1         The Super Mario Bros. Movie   10702.084\n",
      "2                              Fast X    5227.390\n",
      "3                      Evil Dead Rise    4462.605\n",
      "4   Ant-Man and the Wasp: Quantumania    3897.568\n",
      "5          Guy Ritchie's The Covenant    2791.731\n",
      "6                 The Pope's Exorcist    2414.356\n",
      "7      Guardians of the Galaxy Vol. 3    2020.805\n",
      "8            Shazam! Fury of the Gods    1991.492\n",
      "9            Avatar: The Way of Water    1879.806\n",
      "10                            Ghosted    1744.906\n"
     ]
    }
   ],
   "source": [
    "# Define the number of movies to display\n",
    "top_n = 10\n",
    "\n",
    "# Most popular movies with popularity score\n",
    "popular_movies = data.sort_values('popularity', ascending=False).head(top_n)\n",
    "popular_movies = popular_movies[['title', 'popularity']]\n",
    "popular_movies.index = range(1, top_n + 1)  # This will make the index start from 1 instead of 0\n",
    "print(\"Most Popular Movies:\\n\", popular_movies)\n",
    "\n"
   ]
  },
  {
   "cell_type": "code",
   "execution_count": 5,
   "id": "77a86215",
   "metadata": {
    "execution": {
     "iopub.execute_input": "2023-06-07T19:32:21.573637Z",
     "iopub.status.busy": "2023-06-07T19:32:21.573204Z",
     "iopub.status.idle": "2023-06-07T19:32:21.588803Z",
     "shell.execute_reply": "2023-06-07T19:32:21.587249Z"
    },
    "papermill": {
     "duration": 0.022749,
     "end_time": "2023-06-07T19:32:21.591299",
     "exception": false,
     "start_time": "2023-06-07T19:32:21.568550",
     "status": "completed"
    },
    "tags": []
   },
   "outputs": [
    {
     "name": "stdout",
     "output_type": "stream",
     "text": [
      "Highest Rated Movies:\n",
      "                              title  vote_average\n",
      "1                    The Godfather           8.7\n",
      "2         The Shawshank Redemption           8.7\n",
      "3            The Godfather Part II           8.6\n",
      "4      Dilwale Dulhania Le Jayenge           8.6\n",
      "5                 Schindler's List           8.6\n",
      "6   The Good, the Bad and the Ugly           8.5\n",
      "7                Life Is Beautiful           8.5\n",
      "8                  Cinema Paradiso           8.5\n",
      "9                Gabriel's Inferno           8.5\n",
      "10                   Seven Samurai           8.5\n"
     ]
    }
   ],
   "source": [
    "# Highest rated movies with vote_average score\n",
    "rated_movies = data[data['vote_count'] > 1000].sort_values('vote_average', ascending=False).head(top_n)\n",
    "rated_movies = rated_movies[['title', 'vote_average']]\n",
    "rated_movies.index = range(1, top_n+1)  # This will make the index start from 1 instead of 0\n",
    "print(\"Highest Rated Movies:\\n\", rated_movies)\n"
   ]
  }
 ],
 "metadata": {
  "kernelspec": {
   "display_name": "Python 3",
   "language": "python",
   "name": "python3"
  },
  "language_info": {
   "codemirror_mode": {
    "name": "ipython",
    "version": 3
   },
   "file_extension": ".py",
   "mimetype": "text/x-python",
   "name": "python",
   "nbconvert_exporter": "python",
   "pygments_lexer": "ipython3",
   "version": "3.10.10"
  },
  "papermill": {
   "default_parameters": {},
   "duration": 15.540485,
   "end_time": "2023-06-07T19:32:22.517178",
   "environment_variables": {},
   "exception": null,
   "input_path": "__notebook__.ipynb",
   "output_path": "__notebook__.ipynb",
   "parameters": {},
   "start_time": "2023-06-07T19:32:06.976693",
   "version": "2.4.0"
  }
 },
 "nbformat": 4,
 "nbformat_minor": 5
}
